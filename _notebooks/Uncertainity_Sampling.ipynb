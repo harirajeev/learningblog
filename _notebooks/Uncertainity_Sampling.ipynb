{
  "nbformat": 4,
  "nbformat_minor": 0,
  "metadata": {
    "kernelspec": {
      "display_name": "Python 3",
      "language": "python",
      "name": "python3"
    },
    "language_info": {
      "codemirror_mode": {
        "name": "ipython",
        "version": 3
      },
      "file_extension": ".py",
      "mimetype": "text/x-python",
      "name": "python",
      "nbconvert_exporter": "python",
      "pygments_lexer": "ipython3",
      "version": "3.6.8"
    },
    "colab": {
      "name": "Uncertainity_Sampling.ipynb",
      "provenance": []
    }
  },
  "cells": [
    {
      "cell_type": "markdown",
      "metadata": {
        "id": "rktpnPORtEmT",
        "colab_type": "text"
      },
      "source": [
        "# \"Active Learning\"\n",
        "> \"How do humans and machines combine their intelligence to solve problems ?\"\n",
        "- toc: false\n",
        "- branch: master\n",
        "- badges: true\n",
        "- comments: true\n",
        "- categories: [jupyter]\n",
        "- image: images/some_folder/your_image.png\n",
        "- hide: false\n",
        "- search_exclude: true"
      ]
    },
    {
      "cell_type": "markdown",
      "metadata": {
        "id": "U9IglcEHkAf3",
        "colab_type": "text"
      },
      "source": [
        "### Uncertainty Sampleing"
      ]
    },
    {
      "cell_type": "markdown",
      "metadata": {
        "id": "KmLYrO3wqMKe",
        "colab_type": "text"
      },
      "source": [
        "![](https://github.com/harirajeev/learningblog/blob/master/_notebooks/my_icons/4_quadrants.png?raw=1)"
      ]
    }
  ]
}